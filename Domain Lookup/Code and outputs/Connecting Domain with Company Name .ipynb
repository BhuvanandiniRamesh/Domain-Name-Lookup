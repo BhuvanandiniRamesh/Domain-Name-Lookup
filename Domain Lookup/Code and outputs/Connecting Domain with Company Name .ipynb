{
 "cells": [
  {
   "cell_type": "code",
   "execution_count": 1,
   "id": "worse-maine",
   "metadata": {},
   "outputs": [],
   "source": [
    "#Importing the libraries\n",
    "\n",
    "import pandas as pd\n",
    "import json\n",
    "import re"
   ]
  },
  {
   "cell_type": "code",
   "execution_count": 2,
   "id": "apart-platform",
   "metadata": {},
   "outputs": [],
   "source": [
    "#Loading the dataset\n",
    "\n",
    "company = pd.read_json('company.json')\n",
    "domain = pd.read_csv('domain_list.csv')"
   ]
  },
  {
   "cell_type": "code",
   "execution_count": 3,
   "id": "brief-clinton",
   "metadata": {},
   "outputs": [
    {
     "name": "stdout",
     "output_type": "stream",
     "text": [
      "<class 'pandas.core.frame.DataFrame'>\n",
      "RangeIndex: 1060598 entries, 0 to 1060597\n",
      "Data columns (total 25 columns):\n",
      " #   Column                                     Non-Null Count    Dtype  \n",
      "---  ------                                     --------------    -----  \n",
      " 0   organisasjonsnummer                        1060598 non-null  int64  \n",
      " 1   navn                                       1060598 non-null  object \n",
      " 2   organisasjonsform                          1060598 non-null  object \n",
      " 3   registreringsdatoEnhetsregisteret          1060598 non-null  object \n",
      " 4   registrertIMvaregisteret                   1060598 non-null  bool   \n",
      " 5   naeringskode1                              1001105 non-null  object \n",
      " 6   antallAnsatte                              1060598 non-null  int64  \n",
      " 7   forretningsadresse                         1045540 non-null  object \n",
      " 8   institusjonellSektorkode                   975549 non-null   object \n",
      " 9   registrertIForetaksregisteret              1060598 non-null  bool   \n",
      " 10  registrertIStiftelsesregisteret            1060598 non-null  bool   \n",
      " 11  registrertIFrivillighetsregisteret         1060598 non-null  bool   \n",
      " 12  konkurs                                    1060598 non-null  bool   \n",
      " 13  underAvvikling                             1060598 non-null  bool   \n",
      " 14  underTvangsavviklingEllerTvangsopplosning  1060598 non-null  bool   \n",
      " 15  maalform                                   1060598 non-null  object \n",
      " 16  links                                      1060598 non-null  object \n",
      " 17  hjemmeside                                 119973 non-null   object \n",
      " 18  postadresse                                208844 non-null   object \n",
      " 19  stiftelsesdato                             595503 non-null   object \n",
      " 20  sisteInnsendteAarsregnskap                 374439 non-null   float64\n",
      " 21  naeringskode2                              41127 non-null    object \n",
      " 22  frivilligMvaRegistrertBeskrivelser         47042 non-null    object \n",
      " 23  naeringskode3                              1549 non-null     object \n",
      " 24  overordnetEnhet                            1949 non-null     float64\n",
      "dtypes: bool(7), float64(2), int64(2), object(14)\n",
      "memory usage: 152.7+ MB\n"
     ]
    }
   ],
   "source": [
    "company.info()"
   ]
  },
  {
   "cell_type": "code",
   "execution_count": 4,
   "id": "graduate-dating",
   "metadata": {},
   "outputs": [
    {
     "data": {
      "text/html": [
       "<div>\n",
       "<style scoped>\n",
       "    .dataframe tbody tr th:only-of-type {\n",
       "        vertical-align: middle;\n",
       "    }\n",
       "\n",
       "    .dataframe tbody tr th {\n",
       "        vertical-align: top;\n",
       "    }\n",
       "\n",
       "    .dataframe thead th {\n",
       "        text-align: right;\n",
       "    }\n",
       "</style>\n",
       "<table border=\"1\" class=\"dataframe\">\n",
       "  <thead>\n",
       "    <tr style=\"text-align: right;\">\n",
       "      <th></th>\n",
       "      <th>organisasjonsnummer</th>\n",
       "      <th>navn</th>\n",
       "      <th>organisasjonsform</th>\n",
       "      <th>registreringsdatoEnhetsregisteret</th>\n",
       "      <th>registrertIMvaregisteret</th>\n",
       "      <th>naeringskode1</th>\n",
       "      <th>antallAnsatte</th>\n",
       "      <th>forretningsadresse</th>\n",
       "      <th>institusjonellSektorkode</th>\n",
       "      <th>registrertIForetaksregisteret</th>\n",
       "      <th>...</th>\n",
       "      <th>maalform</th>\n",
       "      <th>links</th>\n",
       "      <th>hjemmeside</th>\n",
       "      <th>postadresse</th>\n",
       "      <th>stiftelsesdato</th>\n",
       "      <th>sisteInnsendteAarsregnskap</th>\n",
       "      <th>naeringskode2</th>\n",
       "      <th>frivilligMvaRegistrertBeskrivelser</th>\n",
       "      <th>naeringskode3</th>\n",
       "      <th>overordnetEnhet</th>\n",
       "    </tr>\n",
       "  </thead>\n",
       "  <tbody>\n",
       "    <tr>\n",
       "      <th>0</th>\n",
       "      <td>922924368</td>\n",
       "      <td>- A THOUSAND WORDS - ØDEGÅRDEN GJERRUD TRANSLA...</td>\n",
       "      <td>{'kode': 'ENK', 'beskrivelse': 'Enkeltpersonfo...</td>\n",
       "      <td>2019-06-19</td>\n",
       "      <td>True</td>\n",
       "      <td>{'beskrivelse': 'Oversettelses- og tolkevirkso...</td>\n",
       "      <td>0</td>\n",
       "      <td>{'land': 'Norge', 'landkode': 'NO', 'postnumme...</td>\n",
       "      <td>{'kode': '8200', 'beskrivelse': 'Personlig nær...</td>\n",
       "      <td>False</td>\n",
       "      <td>...</td>\n",
       "      <td>Bokmål</td>\n",
       "      <td>[]</td>\n",
       "      <td>NaN</td>\n",
       "      <td>NaN</td>\n",
       "      <td>NaN</td>\n",
       "      <td>NaN</td>\n",
       "      <td>NaN</td>\n",
       "      <td>NaN</td>\n",
       "      <td>NaN</td>\n",
       "      <td>NaN</td>\n",
       "    </tr>\n",
       "    <tr>\n",
       "      <th>1</th>\n",
       "      <td>916627939</td>\n",
       "      <td>- P A L M E R A -</td>\n",
       "      <td>{'kode': 'FLI', 'beskrivelse': 'Forening/lag/i...</td>\n",
       "      <td>2016-01-26</td>\n",
       "      <td>False</td>\n",
       "      <td>{'beskrivelse': 'Aktiviteter i andre interesse...</td>\n",
       "      <td>0</td>\n",
       "      <td>{'land': 'Norge', 'landkode': 'NO', 'postnumme...</td>\n",
       "      <td>{'kode': '7000', 'beskrivelse': 'Ideelle organ...</td>\n",
       "      <td>False</td>\n",
       "      <td>...</td>\n",
       "      <td>Bokmål</td>\n",
       "      <td>[]</td>\n",
       "      <td>palmera-i-bergen.no</td>\n",
       "      <td>{'land': 'Norge', 'landkode': 'NO', 'postnumme...</td>\n",
       "      <td>2015-11-01</td>\n",
       "      <td>NaN</td>\n",
       "      <td>NaN</td>\n",
       "      <td>NaN</td>\n",
       "      <td>NaN</td>\n",
       "      <td>NaN</td>\n",
       "    </tr>\n",
       "    <tr>\n",
       "      <th>2</th>\n",
       "      <td>911963582</td>\n",
       "      <td>- TTT- WINES TORE EUGEN KRISTIANSEN</td>\n",
       "      <td>{'kode': 'ENK', 'beskrivelse': 'Enkeltpersonfo...</td>\n",
       "      <td>2013-05-25</td>\n",
       "      <td>False</td>\n",
       "      <td>{'beskrivelse': 'Engroshandel med vin og brenn...</td>\n",
       "      <td>0</td>\n",
       "      <td>{'land': 'Norge', 'landkode': 'NO', 'postnumme...</td>\n",
       "      <td>{'kode': '8200', 'beskrivelse': 'Personlig nær...</td>\n",
       "      <td>False</td>\n",
       "      <td>...</td>\n",
       "      <td>Bokmål</td>\n",
       "      <td>[]</td>\n",
       "      <td>NaN</td>\n",
       "      <td>NaN</td>\n",
       "      <td>NaN</td>\n",
       "      <td>NaN</td>\n",
       "      <td>NaN</td>\n",
       "      <td>NaN</td>\n",
       "      <td>NaN</td>\n",
       "      <td>NaN</td>\n",
       "    </tr>\n",
       "    <tr>\n",
       "      <th>3</th>\n",
       "      <td>988539473</td>\n",
       "      <td>-EBE- DATA Eyolf Berg</td>\n",
       "      <td>{'kode': 'ENK', 'beskrivelse': 'Enkeltpersonfo...</td>\n",
       "      <td>2005-08-20</td>\n",
       "      <td>False</td>\n",
       "      <td>{'beskrivelse': 'Konsulentvirksomhet tilknytte...</td>\n",
       "      <td>0</td>\n",
       "      <td>{'land': 'Norge', 'landkode': 'NO', 'postnumme...</td>\n",
       "      <td>{'kode': '8200', 'beskrivelse': 'Personlig nær...</td>\n",
       "      <td>False</td>\n",
       "      <td>...</td>\n",
       "      <td>Bokmål</td>\n",
       "      <td>[]</td>\n",
       "      <td>www.ebe-data.com</td>\n",
       "      <td>NaN</td>\n",
       "      <td>NaN</td>\n",
       "      <td>NaN</td>\n",
       "      <td>NaN</td>\n",
       "      <td>NaN</td>\n",
       "      <td>NaN</td>\n",
       "      <td>NaN</td>\n",
       "    </tr>\n",
       "    <tr>\n",
       "      <th>4</th>\n",
       "      <td>922936919</td>\n",
       "      <td>-VEIEN- MED ANITA HELLEBØ-STOREIDE</td>\n",
       "      <td>{'kode': 'ENK', 'beskrivelse': 'Enkeltpersonfo...</td>\n",
       "      <td>2019-06-21</td>\n",
       "      <td>False</td>\n",
       "      <td>{'beskrivelse': 'Personlig tjenesteyting ikke ...</td>\n",
       "      <td>0</td>\n",
       "      <td>{'land': 'Norge', 'landkode': 'NO', 'postnumme...</td>\n",
       "      <td>{'kode': '8200', 'beskrivelse': 'Personlig nær...</td>\n",
       "      <td>True</td>\n",
       "      <td>...</td>\n",
       "      <td>Bokmål</td>\n",
       "      <td>[]</td>\n",
       "      <td>NaN</td>\n",
       "      <td>NaN</td>\n",
       "      <td>NaN</td>\n",
       "      <td>NaN</td>\n",
       "      <td>NaN</td>\n",
       "      <td>NaN</td>\n",
       "      <td>NaN</td>\n",
       "      <td>NaN</td>\n",
       "    </tr>\n",
       "  </tbody>\n",
       "</table>\n",
       "<p>5 rows × 25 columns</p>\n",
       "</div>"
      ],
      "text/plain": [
       "   organisasjonsnummer                                               navn  \\\n",
       "0            922924368  - A THOUSAND WORDS - ØDEGÅRDEN GJERRUD TRANSLA...   \n",
       "1            916627939                                  - P A L M E R A -   \n",
       "2            911963582                - TTT- WINES TORE EUGEN KRISTIANSEN   \n",
       "3            988539473                              -EBE- DATA Eyolf Berg   \n",
       "4            922936919                 -VEIEN- MED ANITA HELLEBØ-STOREIDE   \n",
       "\n",
       "                                   organisasjonsform  \\\n",
       "0  {'kode': 'ENK', 'beskrivelse': 'Enkeltpersonfo...   \n",
       "1  {'kode': 'FLI', 'beskrivelse': 'Forening/lag/i...   \n",
       "2  {'kode': 'ENK', 'beskrivelse': 'Enkeltpersonfo...   \n",
       "3  {'kode': 'ENK', 'beskrivelse': 'Enkeltpersonfo...   \n",
       "4  {'kode': 'ENK', 'beskrivelse': 'Enkeltpersonfo...   \n",
       "\n",
       "  registreringsdatoEnhetsregisteret  registrertIMvaregisteret  \\\n",
       "0                        2019-06-19                      True   \n",
       "1                        2016-01-26                     False   \n",
       "2                        2013-05-25                     False   \n",
       "3                        2005-08-20                     False   \n",
       "4                        2019-06-21                     False   \n",
       "\n",
       "                                       naeringskode1  antallAnsatte  \\\n",
       "0  {'beskrivelse': 'Oversettelses- og tolkevirkso...              0   \n",
       "1  {'beskrivelse': 'Aktiviteter i andre interesse...              0   \n",
       "2  {'beskrivelse': 'Engroshandel med vin og brenn...              0   \n",
       "3  {'beskrivelse': 'Konsulentvirksomhet tilknytte...              0   \n",
       "4  {'beskrivelse': 'Personlig tjenesteyting ikke ...              0   \n",
       "\n",
       "                                  forretningsadresse  \\\n",
       "0  {'land': 'Norge', 'landkode': 'NO', 'postnumme...   \n",
       "1  {'land': 'Norge', 'landkode': 'NO', 'postnumme...   \n",
       "2  {'land': 'Norge', 'landkode': 'NO', 'postnumme...   \n",
       "3  {'land': 'Norge', 'landkode': 'NO', 'postnumme...   \n",
       "4  {'land': 'Norge', 'landkode': 'NO', 'postnumme...   \n",
       "\n",
       "                            institusjonellSektorkode  \\\n",
       "0  {'kode': '8200', 'beskrivelse': 'Personlig nær...   \n",
       "1  {'kode': '7000', 'beskrivelse': 'Ideelle organ...   \n",
       "2  {'kode': '8200', 'beskrivelse': 'Personlig nær...   \n",
       "3  {'kode': '8200', 'beskrivelse': 'Personlig nær...   \n",
       "4  {'kode': '8200', 'beskrivelse': 'Personlig nær...   \n",
       "\n",
       "   registrertIForetaksregisteret  ...  maalform  links           hjemmeside  \\\n",
       "0                          False  ...    Bokmål     []                  NaN   \n",
       "1                          False  ...    Bokmål     []  palmera-i-bergen.no   \n",
       "2                          False  ...    Bokmål     []                  NaN   \n",
       "3                          False  ...    Bokmål     []     www.ebe-data.com   \n",
       "4                           True  ...    Bokmål     []                  NaN   \n",
       "\n",
       "                                         postadresse  stiftelsesdato  \\\n",
       "0                                                NaN             NaN   \n",
       "1  {'land': 'Norge', 'landkode': 'NO', 'postnumme...      2015-11-01   \n",
       "2                                                NaN             NaN   \n",
       "3                                                NaN             NaN   \n",
       "4                                                NaN             NaN   \n",
       "\n",
       "  sisteInnsendteAarsregnskap naeringskode2 frivilligMvaRegistrertBeskrivelser  \\\n",
       "0                        NaN           NaN                                NaN   \n",
       "1                        NaN           NaN                                NaN   \n",
       "2                        NaN           NaN                                NaN   \n",
       "3                        NaN           NaN                                NaN   \n",
       "4                        NaN           NaN                                NaN   \n",
       "\n",
       "  naeringskode3 overordnetEnhet  \n",
       "0           NaN             NaN  \n",
       "1           NaN             NaN  \n",
       "2           NaN             NaN  \n",
       "3           NaN             NaN  \n",
       "4           NaN             NaN  \n",
       "\n",
       "[5 rows x 25 columns]"
      ]
     },
     "execution_count": 4,
     "metadata": {},
     "output_type": "execute_result"
    }
   ],
   "source": [
    "company.head()"
   ]
  },
  {
   "cell_type": "code",
   "execution_count": 5,
   "id": "measured-benefit",
   "metadata": {},
   "outputs": [
    {
     "name": "stdout",
     "output_type": "stream",
     "text": [
      "                       Domain_Name\n",
      "0     nordiskhundemassasjeskole.no\n",
      "1               nordisktrygghet.no\n",
      "2                       nordiwa.no\n",
      "3                        nordix.no\n",
      "4                       nordkak.no\n",
      "...                            ...\n",
      "3164                 vetsentrum.no\n",
      "3165                   vetserve.no\n",
      "3166                   vevangas.no\n",
      "3167                   vevlemek.no\n",
      "3168                vevmesteren.no\n",
      "\n",
      "[3169 rows x 1 columns]\n"
     ]
    }
   ],
   "source": [
    "print (domain)"
   ]
  },
  {
   "cell_type": "code",
   "execution_count": 6,
   "id": "oriental-blake",
   "metadata": {},
   "outputs": [],
   "source": [
    "company = company.drop(columns = [\n",
    "    'organisasjonsform','registrertIMvaregisteret', 'registrertIFrivillighetsregisteret',\n",
    "    'naeringskode1','registrertIForetaksregisteret','forretningsadresse','institusjonellSektorkode',\n",
    "    'registrertIStiftelsesregisteret','konkurs','underAvvikling','underTvangsavviklingEllerTvangsopplosning',\n",
    "    'maalform','postadresse','sisteInnsendteAarsregnskap', 'naeringskode2','links',\n",
    "    'frivilligMvaRegistrertBeskrivelser','naeringskode3','overordnetEnhet', 'stiftelsesdato', 'antallAnsatte'])"
   ]
  },
  {
   "cell_type": "code",
   "execution_count": 7,
   "id": "lyric-hierarchy",
   "metadata": {},
   "outputs": [
    {
     "data": {
      "text/html": [
       "<div>\n",
       "<style scoped>\n",
       "    .dataframe tbody tr th:only-of-type {\n",
       "        vertical-align: middle;\n",
       "    }\n",
       "\n",
       "    .dataframe tbody tr th {\n",
       "        vertical-align: top;\n",
       "    }\n",
       "\n",
       "    .dataframe thead th {\n",
       "        text-align: right;\n",
       "    }\n",
       "</style>\n",
       "<table border=\"1\" class=\"dataframe\">\n",
       "  <thead>\n",
       "    <tr style=\"text-align: right;\">\n",
       "      <th></th>\n",
       "      <th>organisasjonsnummer</th>\n",
       "      <th>navn</th>\n",
       "      <th>registreringsdatoEnhetsregisteret</th>\n",
       "      <th>hjemmeside</th>\n",
       "    </tr>\n",
       "  </thead>\n",
       "  <tbody>\n",
       "    <tr>\n",
       "      <th>0</th>\n",
       "      <td>922924368</td>\n",
       "      <td>- A THOUSAND WORDS - ØDEGÅRDEN GJERRUD TRANSLA...</td>\n",
       "      <td>2019-06-19</td>\n",
       "      <td>NaN</td>\n",
       "    </tr>\n",
       "    <tr>\n",
       "      <th>1</th>\n",
       "      <td>916627939</td>\n",
       "      <td>- P A L M E R A -</td>\n",
       "      <td>2016-01-26</td>\n",
       "      <td>palmera-i-bergen.no</td>\n",
       "    </tr>\n",
       "    <tr>\n",
       "      <th>2</th>\n",
       "      <td>911963582</td>\n",
       "      <td>- TTT- WINES TORE EUGEN KRISTIANSEN</td>\n",
       "      <td>2013-05-25</td>\n",
       "      <td>NaN</td>\n",
       "    </tr>\n",
       "    <tr>\n",
       "      <th>3</th>\n",
       "      <td>988539473</td>\n",
       "      <td>-EBE- DATA Eyolf Berg</td>\n",
       "      <td>2005-08-20</td>\n",
       "      <td>www.ebe-data.com</td>\n",
       "    </tr>\n",
       "    <tr>\n",
       "      <th>4</th>\n",
       "      <td>922936919</td>\n",
       "      <td>-VEIEN- MED ANITA HELLEBØ-STOREIDE</td>\n",
       "      <td>2019-06-21</td>\n",
       "      <td>NaN</td>\n",
       "    </tr>\n",
       "  </tbody>\n",
       "</table>\n",
       "</div>"
      ],
      "text/plain": [
       "   organisasjonsnummer                                               navn  \\\n",
       "0            922924368  - A THOUSAND WORDS - ØDEGÅRDEN GJERRUD TRANSLA...   \n",
       "1            916627939                                  - P A L M E R A -   \n",
       "2            911963582                - TTT- WINES TORE EUGEN KRISTIANSEN   \n",
       "3            988539473                              -EBE- DATA Eyolf Berg   \n",
       "4            922936919                 -VEIEN- MED ANITA HELLEBØ-STOREIDE   \n",
       "\n",
       "  registreringsdatoEnhetsregisteret           hjemmeside  \n",
       "0                        2019-06-19                  NaN  \n",
       "1                        2016-01-26  palmera-i-bergen.no  \n",
       "2                        2013-05-25                  NaN  \n",
       "3                        2005-08-20     www.ebe-data.com  \n",
       "4                        2019-06-21                  NaN  "
      ]
     },
     "execution_count": 7,
     "metadata": {},
     "output_type": "execute_result"
    }
   ],
   "source": [
    "company.head()"
   ]
  },
  {
   "cell_type": "code",
   "execution_count": 8,
   "id": "educated-store",
   "metadata": {},
   "outputs": [],
   "source": [
    "compamy = company.dropna(subset = [\"hjemmeside\"], inplace=True)"
   ]
  },
  {
   "cell_type": "code",
   "execution_count": 9,
   "id": "aggressive-christmas",
   "metadata": {},
   "outputs": [
    {
     "data": {
      "text/plain": [
       "1                palmera-i-bergen.no\n",
       "3                   www.ebe-data.com\n",
       "5          artofdesign.ltevensen.com\n",
       "6                     www.soldier.no\n",
       "17                  www.mayasart.net\n",
       "                     ...            \n",
       "1060574           www.oliventreet.no\n",
       "1060576           www.pixelpoeten.no\n",
       "1060581                www.rrbygg.no\n",
       "1060582     www.mytrend.blogspot.com\n",
       "1060589                 turbovask.no\n",
       "Name: hjemmeside, Length: 119973, dtype: object"
      ]
     },
     "execution_count": 9,
     "metadata": {},
     "output_type": "execute_result"
    }
   ],
   "source": [
    "company['hjemmeside']"
   ]
  },
  {
   "cell_type": "code",
   "execution_count": 10,
   "id": "portuguese-information",
   "metadata": {},
   "outputs": [
    {
     "data": {
      "text/html": [
       "<div>\n",
       "<style scoped>\n",
       "    .dataframe tbody tr th:only-of-type {\n",
       "        vertical-align: middle;\n",
       "    }\n",
       "\n",
       "    .dataframe tbody tr th {\n",
       "        vertical-align: top;\n",
       "    }\n",
       "\n",
       "    .dataframe thead th {\n",
       "        text-align: right;\n",
       "    }\n",
       "</style>\n",
       "<table border=\"1\" class=\"dataframe\">\n",
       "  <thead>\n",
       "    <tr style=\"text-align: right;\">\n",
       "      <th></th>\n",
       "      <th>organisasjonsnummer</th>\n",
       "      <th>navn</th>\n",
       "      <th>registreringsdatoEnhetsregisteret</th>\n",
       "      <th>hjemmeside</th>\n",
       "    </tr>\n",
       "  </thead>\n",
       "  <tbody>\n",
       "    <tr>\n",
       "      <th>1</th>\n",
       "      <td>916627939</td>\n",
       "      <td>- P A L M E R A -</td>\n",
       "      <td>2016-01-26</td>\n",
       "      <td>palmera-i-bergen.no</td>\n",
       "    </tr>\n",
       "    <tr>\n",
       "      <th>3</th>\n",
       "      <td>988539473</td>\n",
       "      <td>-EBE- DATA Eyolf Berg</td>\n",
       "      <td>2005-08-20</td>\n",
       "      <td>www.ebe-data.com</td>\n",
       "    </tr>\n",
       "    <tr>\n",
       "      <th>5</th>\n",
       "      <td>990730253</td>\n",
       "      <td>://ART OF DESIGN//: Lars Thomas Evensen</td>\n",
       "      <td>2007-01-08</td>\n",
       "      <td>artofdesign.ltevensen.com</td>\n",
       "    </tr>\n",
       "    <tr>\n",
       "      <th>6</th>\n",
       "      <td>994924974</td>\n",
       "      <td>.:SOR-ESPORTS</td>\n",
       "      <td>2010-01-05</td>\n",
       "      <td>www.soldier.no</td>\n",
       "    </tr>\n",
       "    <tr>\n",
       "      <th>17</th>\n",
       "      <td>977021715</td>\n",
       "      <td>''MAYA'' KREATIV MALING May Britt Øydvin</td>\n",
       "      <td>1996-12-11</td>\n",
       "      <td>www.mayasart.net</td>\n",
       "    </tr>\n",
       "  </tbody>\n",
       "</table>\n",
       "</div>"
      ],
      "text/plain": [
       "    organisasjonsnummer                                      navn  \\\n",
       "1             916627939                         - P A L M E R A -   \n",
       "3             988539473                     -EBE- DATA Eyolf Berg   \n",
       "5             990730253   ://ART OF DESIGN//: Lars Thomas Evensen   \n",
       "6             994924974                             .:SOR-ESPORTS   \n",
       "17            977021715  ''MAYA'' KREATIV MALING May Britt Øydvin   \n",
       "\n",
       "   registreringsdatoEnhetsregisteret                 hjemmeside  \n",
       "1                         2016-01-26        palmera-i-bergen.no  \n",
       "3                         2005-08-20           www.ebe-data.com  \n",
       "5                         2007-01-08  artofdesign.ltevensen.com  \n",
       "6                         2010-01-05             www.soldier.no  \n",
       "17                        1996-12-11           www.mayasart.net  "
      ]
     },
     "execution_count": 10,
     "metadata": {},
     "output_type": "execute_result"
    }
   ],
   "source": [
    "company.head()"
   ]
  },
  {
   "cell_type": "code",
   "execution_count": 11,
   "id": "certain-enterprise",
   "metadata": {},
   "outputs": [],
   "source": [
    "company['hjemmeside'] = company['hjemmeside'].replace(to_replace=r'www.', value='', regex=True)"
   ]
  },
  {
   "cell_type": "code",
   "execution_count": 12,
   "id": "casual-orbit",
   "metadata": {},
   "outputs": [
    {
     "data": {
      "text/plain": [
       "(119973, 4)"
      ]
     },
     "execution_count": 12,
     "metadata": {},
     "output_type": "execute_result"
    }
   ],
   "source": [
    "company.shape"
   ]
  },
  {
   "cell_type": "code",
   "execution_count": 13,
   "id": "built-procedure",
   "metadata": {},
   "outputs": [
    {
     "data": {
      "text/plain": [
       "(3169, 1)"
      ]
     },
     "execution_count": 13,
     "metadata": {},
     "output_type": "execute_result"
    }
   ],
   "source": [
    "domain.shape"
   ]
  },
  {
   "cell_type": "code",
   "execution_count": 14,
   "id": "athletic-defendant",
   "metadata": {},
   "outputs": [],
   "source": [
    "company = company.rename(columns={\"organisasjonsnummer\":\"Org_Number\",\"navn\":\"Company\",\n",
    "        \"registreringsdatoEnhetsregisteret\":\"Reg_Date\", \"hjemmeside\": \"Website\"})"
   ]
  },
  {
   "cell_type": "code",
   "execution_count": 16,
   "id": "electoral-baghdad",
   "metadata": {},
   "outputs": [],
   "source": [
    "company['Reg_Date'] = pd.to_datetime(company['Reg_Date'])"
   ]
  },
  {
   "cell_type": "code",
   "execution_count": 17,
   "id": "found-spank",
   "metadata": {
    "scrolled": false
   },
   "outputs": [
    {
     "name": "stdout",
     "output_type": "stream",
     "text": [
      "<class 'pandas.core.frame.DataFrame'>\n",
      "Int64Index: 119973 entries, 1 to 1060589\n",
      "Data columns (total 4 columns):\n",
      " #   Column      Non-Null Count   Dtype         \n",
      "---  ------      --------------   -----         \n",
      " 0   Org_Number  119973 non-null  int64         \n",
      " 1   Company     119973 non-null  object        \n",
      " 2   Reg_Date    119973 non-null  datetime64[ns]\n",
      " 3   Website     119973 non-null  object        \n",
      "dtypes: datetime64[ns](1), int64(1), object(2)\n",
      "memory usage: 4.6+ MB\n"
     ]
    }
   ],
   "source": [
    "company.info()"
   ]
  },
  {
   "cell_type": "code",
   "execution_count": 18,
   "id": "handmade-moment",
   "metadata": {},
   "outputs": [
    {
     "data": {
      "text/html": [
       "<div>\n",
       "<style scoped>\n",
       "    .dataframe tbody tr th:only-of-type {\n",
       "        vertical-align: middle;\n",
       "    }\n",
       "\n",
       "    .dataframe tbody tr th {\n",
       "        vertical-align: top;\n",
       "    }\n",
       "\n",
       "    .dataframe thead th {\n",
       "        text-align: right;\n",
       "    }\n",
       "</style>\n",
       "<table border=\"1\" class=\"dataframe\">\n",
       "  <thead>\n",
       "    <tr style=\"text-align: right;\">\n",
       "      <th></th>\n",
       "      <th>Org_Number</th>\n",
       "      <th>Company</th>\n",
       "      <th>Reg_Date</th>\n",
       "      <th>Website</th>\n",
       "    </tr>\n",
       "  </thead>\n",
       "  <tbody>\n",
       "    <tr>\n",
       "      <th>1</th>\n",
       "      <td>916627939</td>\n",
       "      <td>- P A L M E R A -</td>\n",
       "      <td>2016-01-26</td>\n",
       "      <td>palmera-i-bergen.no</td>\n",
       "    </tr>\n",
       "    <tr>\n",
       "      <th>3</th>\n",
       "      <td>988539473</td>\n",
       "      <td>-EBE- DATA Eyolf Berg</td>\n",
       "      <td>2005-08-20</td>\n",
       "      <td>ebe-data.com</td>\n",
       "    </tr>\n",
       "    <tr>\n",
       "      <th>5</th>\n",
       "      <td>990730253</td>\n",
       "      <td>://ART OF DESIGN//: Lars Thomas Evensen</td>\n",
       "      <td>2007-01-08</td>\n",
       "      <td>artofdesign.ltevensen.com</td>\n",
       "    </tr>\n",
       "    <tr>\n",
       "      <th>6</th>\n",
       "      <td>994924974</td>\n",
       "      <td>.:SOR-ESPORTS</td>\n",
       "      <td>2010-01-05</td>\n",
       "      <td>soldier.no</td>\n",
       "    </tr>\n",
       "    <tr>\n",
       "      <th>17</th>\n",
       "      <td>977021715</td>\n",
       "      <td>''MAYA'' KREATIV MALING May Britt Øydvin</td>\n",
       "      <td>1996-12-11</td>\n",
       "      <td>mayasart.net</td>\n",
       "    </tr>\n",
       "    <tr>\n",
       "      <th>27</th>\n",
       "      <td>986804641</td>\n",
       "      <td>(TXT) ARNESTAD.ORG</td>\n",
       "      <td>2004-05-22</td>\n",
       "      <td>arnestad.org</td>\n",
       "    </tr>\n",
       "    <tr>\n",
       "      <th>31</th>\n",
       "      <td>924829214</td>\n",
       "      <td>@RNEBLIKK AS</td>\n",
       "      <td>2020-04-21</td>\n",
       "      <td>oerneblikk.com</td>\n",
       "    </tr>\n",
       "    <tr>\n",
       "      <th>32</th>\n",
       "      <td>992648554</td>\n",
       "      <td>*FORRESTEN FORM Mikael Cappelen Smith</td>\n",
       "      <td>2008-05-08</td>\n",
       "      <td>mikkelcappelensmith.com</td>\n",
       "    </tr>\n",
       "    <tr>\n",
       "      <th>43</th>\n",
       "      <td>913779908</td>\n",
       "      <td>+ ARK AS</td>\n",
       "      <td>2014-06-19</td>\n",
       "      <td>plussark.no</td>\n",
       "    </tr>\n",
       "    <tr>\n",
       "      <th>44</th>\n",
       "      <td>995451697</td>\n",
       "      <td>+2 INTERIØR AS</td>\n",
       "      <td>2010-04-28</td>\n",
       "      <td>pluss2.no</td>\n",
       "    </tr>\n",
       "  </tbody>\n",
       "</table>\n",
       "</div>"
      ],
      "text/plain": [
       "    Org_Number                                   Company   Reg_Date  \\\n",
       "1    916627939                         - P A L M E R A - 2016-01-26   \n",
       "3    988539473                     -EBE- DATA Eyolf Berg 2005-08-20   \n",
       "5    990730253   ://ART OF DESIGN//: Lars Thomas Evensen 2007-01-08   \n",
       "6    994924974                             .:SOR-ESPORTS 2010-01-05   \n",
       "17   977021715  ''MAYA'' KREATIV MALING May Britt Øydvin 1996-12-11   \n",
       "27   986804641                        (TXT) ARNESTAD.ORG 2004-05-22   \n",
       "31   924829214                              @RNEBLIKK AS 2020-04-21   \n",
       "32   992648554     *FORRESTEN FORM Mikael Cappelen Smith 2008-05-08   \n",
       "43   913779908                                  + ARK AS 2014-06-19   \n",
       "44   995451697                            +2 INTERIØR AS 2010-04-28   \n",
       "\n",
       "                      Website  \n",
       "1         palmera-i-bergen.no  \n",
       "3                ebe-data.com  \n",
       "5   artofdesign.ltevensen.com  \n",
       "6                  soldier.no  \n",
       "17               mayasart.net  \n",
       "27               arnestad.org  \n",
       "31             oerneblikk.com  \n",
       "32    mikkelcappelensmith.com  \n",
       "43                plussark.no  \n",
       "44                  pluss2.no  "
      ]
     },
     "execution_count": 18,
     "metadata": {},
     "output_type": "execute_result"
    }
   ],
   "source": [
    "company.head(10)"
   ]
  },
  {
   "cell_type": "code",
   "execution_count": 19,
   "id": "effective-creator",
   "metadata": {},
   "outputs": [],
   "source": [
    "company.to_csv('Company Data.csv')"
   ]
  },
  {
   "cell_type": "code",
   "execution_count": 20,
   "id": "controversial-shore",
   "metadata": {
    "scrolled": true
   },
   "outputs": [],
   "source": [
    "final_data = domain.merge(company,left_on=\"Domain_Name\",right_on=\"Website\")"
   ]
  },
  {
   "cell_type": "code",
   "execution_count": 21,
   "id": "ambient-exhaust",
   "metadata": {},
   "outputs": [
    {
     "data": {
      "text/html": [
       "<div>\n",
       "<style scoped>\n",
       "    .dataframe tbody tr th:only-of-type {\n",
       "        vertical-align: middle;\n",
       "    }\n",
       "\n",
       "    .dataframe tbody tr th {\n",
       "        vertical-align: top;\n",
       "    }\n",
       "\n",
       "    .dataframe thead th {\n",
       "        text-align: right;\n",
       "    }\n",
       "</style>\n",
       "<table border=\"1\" class=\"dataframe\">\n",
       "  <thead>\n",
       "    <tr style=\"text-align: right;\">\n",
       "      <th></th>\n",
       "      <th>Domain_Name</th>\n",
       "      <th>Org_Number</th>\n",
       "      <th>Company</th>\n",
       "      <th>Reg_Date</th>\n",
       "      <th>Website</th>\n",
       "    </tr>\n",
       "  </thead>\n",
       "  <tbody>\n",
       "    <tr>\n",
       "      <th>0</th>\n",
       "      <td>nordix.no</td>\n",
       "      <td>864133312</td>\n",
       "      <td>NORDIX DATA AS</td>\n",
       "      <td>1995-02-19</td>\n",
       "      <td>nordix.no</td>\n",
       "    </tr>\n",
       "    <tr>\n",
       "      <th>1</th>\n",
       "      <td>kirken.nordkapp.no</td>\n",
       "      <td>977001706</td>\n",
       "      <td>NORDKAPP SOKN</td>\n",
       "      <td>1997-01-27</td>\n",
       "      <td>kirken.nordkapp.no</td>\n",
       "    </tr>\n",
       "    <tr>\n",
       "      <th>2</th>\n",
       "      <td>nordkapp-boats.no</td>\n",
       "      <td>958204434</td>\n",
       "      <td>FRYDENBØ BOATS AS</td>\n",
       "      <td>1995-02-19</td>\n",
       "      <td>nordkapp-boats.no</td>\n",
       "    </tr>\n",
       "    <tr>\n",
       "      <th>3</th>\n",
       "      <td>nordkappauto.no</td>\n",
       "      <td>979703090</td>\n",
       "      <td>NORDKAPP AUTO AS</td>\n",
       "      <td>1998-03-24</td>\n",
       "      <td>nordkappauto.no</td>\n",
       "    </tr>\n",
       "    <tr>\n",
       "      <th>4</th>\n",
       "      <td>nordkappcamping.no</td>\n",
       "      <td>954824209</td>\n",
       "      <td>NORDKAPP CAMPING AS</td>\n",
       "      <td>1995-02-19</td>\n",
       "      <td>nordkappcamping.no</td>\n",
       "    </tr>\n",
       "  </tbody>\n",
       "</table>\n",
       "</div>"
      ],
      "text/plain": [
       "          Domain_Name  Org_Number              Company   Reg_Date  \\\n",
       "0           nordix.no   864133312       NORDIX DATA AS 1995-02-19   \n",
       "1  kirken.nordkapp.no   977001706        NORDKAPP SOKN 1997-01-27   \n",
       "2   nordkapp-boats.no   958204434    FRYDENBØ BOATS AS 1995-02-19   \n",
       "3     nordkappauto.no   979703090     NORDKAPP AUTO AS 1998-03-24   \n",
       "4  nordkappcamping.no   954824209  NORDKAPP CAMPING AS 1995-02-19   \n",
       "\n",
       "              Website  \n",
       "0           nordix.no  \n",
       "1  kirken.nordkapp.no  \n",
       "2   nordkapp-boats.no  \n",
       "3     nordkappauto.no  \n",
       "4  nordkappcamping.no  "
      ]
     },
     "execution_count": 21,
     "metadata": {},
     "output_type": "execute_result"
    }
   ],
   "source": [
    "final_data.head()"
   ]
  },
  {
   "cell_type": "code",
   "execution_count": 22,
   "id": "fuzzy-subject",
   "metadata": {},
   "outputs": [
    {
     "data": {
      "text/plain": [
       "(1987, 5)"
      ]
     },
     "execution_count": 22,
     "metadata": {},
     "output_type": "execute_result"
    }
   ],
   "source": [
    "final_data.shape"
   ]
  },
  {
   "cell_type": "code",
   "execution_count": 23,
   "id": "formed-macintosh",
   "metadata": {},
   "outputs": [
    {
     "name": "stdout",
     "output_type": "stream",
     "text": [
      "<class 'pandas.core.frame.DataFrame'>\n",
      "Int64Index: 1987 entries, 0 to 1986\n",
      "Data columns (total 5 columns):\n",
      " #   Column       Non-Null Count  Dtype         \n",
      "---  ------       --------------  -----         \n",
      " 0   Domain_Name  1987 non-null   object        \n",
      " 1   Org_Number   1987 non-null   int64         \n",
      " 2   Company      1987 non-null   object        \n",
      " 3   Reg_Date     1987 non-null   datetime64[ns]\n",
      " 4   Website      1987 non-null   object        \n",
      "dtypes: datetime64[ns](1), int64(1), object(3)\n",
      "memory usage: 93.1+ KB\n"
     ]
    }
   ],
   "source": [
    "final_data.info()"
   ]
  },
  {
   "cell_type": "code",
   "execution_count": 24,
   "id": "afraid-cleaners",
   "metadata": {},
   "outputs": [],
   "source": [
    "final_data.to_csv('Final Data.csv')"
   ]
  },
  {
   "cell_type": "code",
   "execution_count": 25,
   "id": "clinical-paintball",
   "metadata": {},
   "outputs": [],
   "source": [
    "unique = pd.read_csv('Final Data.csv')"
   ]
  },
  {
   "cell_type": "code",
   "execution_count": 26,
   "id": "western-forest",
   "metadata": {},
   "outputs": [
    {
     "data": {
      "text/html": [
       "<div>\n",
       "<style scoped>\n",
       "    .dataframe tbody tr th:only-of-type {\n",
       "        vertical-align: middle;\n",
       "    }\n",
       "\n",
       "    .dataframe tbody tr th {\n",
       "        vertical-align: top;\n",
       "    }\n",
       "\n",
       "    .dataframe thead th {\n",
       "        text-align: right;\n",
       "    }\n",
       "</style>\n",
       "<table border=\"1\" class=\"dataframe\">\n",
       "  <thead>\n",
       "    <tr style=\"text-align: right;\">\n",
       "      <th></th>\n",
       "      <th>Unnamed: 0</th>\n",
       "      <th>Domain_Name</th>\n",
       "      <th>Org_Number</th>\n",
       "      <th>Company</th>\n",
       "      <th>Reg_Date</th>\n",
       "      <th>Website</th>\n",
       "    </tr>\n",
       "  </thead>\n",
       "  <tbody>\n",
       "    <tr>\n",
       "      <th>0</th>\n",
       "      <td>0</td>\n",
       "      <td>nordix.no</td>\n",
       "      <td>864133312</td>\n",
       "      <td>NORDIX DATA AS</td>\n",
       "      <td>1995-02-19</td>\n",
       "      <td>nordix.no</td>\n",
       "    </tr>\n",
       "    <tr>\n",
       "      <th>1</th>\n",
       "      <td>1</td>\n",
       "      <td>kirken.nordkapp.no</td>\n",
       "      <td>977001706</td>\n",
       "      <td>NORDKAPP SOKN</td>\n",
       "      <td>1997-01-27</td>\n",
       "      <td>kirken.nordkapp.no</td>\n",
       "    </tr>\n",
       "    <tr>\n",
       "      <th>2</th>\n",
       "      <td>2</td>\n",
       "      <td>nordkapp-boats.no</td>\n",
       "      <td>958204434</td>\n",
       "      <td>FRYDENBØ BOATS AS</td>\n",
       "      <td>1995-02-19</td>\n",
       "      <td>nordkapp-boats.no</td>\n",
       "    </tr>\n",
       "    <tr>\n",
       "      <th>3</th>\n",
       "      <td>3</td>\n",
       "      <td>nordkappauto.no</td>\n",
       "      <td>979703090</td>\n",
       "      <td>NORDKAPP AUTO AS</td>\n",
       "      <td>1998-03-24</td>\n",
       "      <td>nordkappauto.no</td>\n",
       "    </tr>\n",
       "    <tr>\n",
       "      <th>4</th>\n",
       "      <td>4</td>\n",
       "      <td>nordkappcamping.no</td>\n",
       "      <td>954824209</td>\n",
       "      <td>NORDKAPP CAMPING AS</td>\n",
       "      <td>1995-02-19</td>\n",
       "      <td>nordkappcamping.no</td>\n",
       "    </tr>\n",
       "  </tbody>\n",
       "</table>\n",
       "</div>"
      ],
      "text/plain": [
       "   Unnamed: 0         Domain_Name  Org_Number              Company  \\\n",
       "0           0           nordix.no   864133312       NORDIX DATA AS   \n",
       "1           1  kirken.nordkapp.no   977001706        NORDKAPP SOKN   \n",
       "2           2   nordkapp-boats.no   958204434    FRYDENBØ BOATS AS   \n",
       "3           3     nordkappauto.no   979703090     NORDKAPP AUTO AS   \n",
       "4           4  nordkappcamping.no   954824209  NORDKAPP CAMPING AS   \n",
       "\n",
       "     Reg_Date             Website  \n",
       "0  1995-02-19           nordix.no  \n",
       "1  1997-01-27  kirken.nordkapp.no  \n",
       "2  1995-02-19   nordkapp-boats.no  \n",
       "3  1998-03-24     nordkappauto.no  \n",
       "4  1995-02-19  nordkappcamping.no  "
      ]
     },
     "execution_count": 26,
     "metadata": {},
     "output_type": "execute_result"
    }
   ],
   "source": [
    "unique.head()"
   ]
  },
  {
   "cell_type": "code",
   "execution_count": 28,
   "id": "south-classification",
   "metadata": {},
   "outputs": [],
   "source": [
    "#Collecting company names with unique domains \n",
    "unique = pd.concat(g for _, g in unique.groupby(\"Domain_Name\") if len(g) < 2)"
   ]
  },
  {
   "cell_type": "code",
   "execution_count": 29,
   "id": "minor-photography",
   "metadata": {},
   "outputs": [],
   "source": [
    "unique = unique.drop(columns = ['Unnamed: 0'])"
   ]
  },
  {
   "cell_type": "code",
   "execution_count": 30,
   "id": "broadband-olive",
   "metadata": {
    "scrolled": true
   },
   "outputs": [
    {
     "data": {
      "text/html": [
       "<div>\n",
       "<style scoped>\n",
       "    .dataframe tbody tr th:only-of-type {\n",
       "        vertical-align: middle;\n",
       "    }\n",
       "\n",
       "    .dataframe tbody tr th {\n",
       "        vertical-align: top;\n",
       "    }\n",
       "\n",
       "    .dataframe thead th {\n",
       "        text-align: right;\n",
       "    }\n",
       "</style>\n",
       "<table border=\"1\" class=\"dataframe\">\n",
       "  <thead>\n",
       "    <tr style=\"text-align: right;\">\n",
       "      <th></th>\n",
       "      <th>Domain_Name</th>\n",
       "      <th>Org_Number</th>\n",
       "      <th>Company</th>\n",
       "      <th>Reg_Date</th>\n",
       "      <th>Website</th>\n",
       "    </tr>\n",
       "  </thead>\n",
       "  <tbody>\n",
       "    <tr>\n",
       "      <th>381</th>\n",
       "      <td>autoforum.sf.no</td>\n",
       "      <td>959167915</td>\n",
       "      <td>AUTO 8-8 FORUM AS</td>\n",
       "      <td>1995-02-20</td>\n",
       "      <td>autoforum.sf.no</td>\n",
       "    </tr>\n",
       "    <tr>\n",
       "      <th>223</th>\n",
       "      <td>cas.oslo.no</td>\n",
       "      <td>971543671</td>\n",
       "      <td>SENTER FOR GRUNNFORSKNING VED DET NORSKE VIDEN...</td>\n",
       "      <td>1995-02-20</td>\n",
       "      <td>cas.oslo.no</td>\n",
       "    </tr>\n",
       "    <tr>\n",
       "      <th>1</th>\n",
       "      <td>kirken.nordkapp.no</td>\n",
       "      <td>977001706</td>\n",
       "      <td>NORDKAPP SOKN</td>\n",
       "      <td>1997-01-27</td>\n",
       "      <td>kirken.nordkapp.no</td>\n",
       "    </tr>\n",
       "    <tr>\n",
       "      <th>849</th>\n",
       "      <td>kirken.sor-fron.no</td>\n",
       "      <td>976988922</td>\n",
       "      <td>SØR-FRON SOKN</td>\n",
       "      <td>1997-01-27</td>\n",
       "      <td>kirken.sor-fron.no</td>\n",
       "    </tr>\n",
       "    <tr>\n",
       "      <th>0</th>\n",
       "      <td>nordix.no</td>\n",
       "      <td>864133312</td>\n",
       "      <td>NORDIX DATA AS</td>\n",
       "      <td>1995-02-19</td>\n",
       "      <td>nordix.no</td>\n",
       "    </tr>\n",
       "    <tr>\n",
       "      <th>2</th>\n",
       "      <td>nordkapp-boats.no</td>\n",
       "      <td>958204434</td>\n",
       "      <td>FRYDENBØ BOATS AS</td>\n",
       "      <td>1995-02-19</td>\n",
       "      <td>nordkapp-boats.no</td>\n",
       "    </tr>\n",
       "    <tr>\n",
       "      <th>3</th>\n",
       "      <td>nordkappauto.no</td>\n",
       "      <td>979703090</td>\n",
       "      <td>NORDKAPP AUTO AS</td>\n",
       "      <td>1998-03-24</td>\n",
       "      <td>nordkappauto.no</td>\n",
       "    </tr>\n",
       "    <tr>\n",
       "      <th>4</th>\n",
       "      <td>nordkappcamping.no</td>\n",
       "      <td>954824209</td>\n",
       "      <td>NORDKAPP CAMPING AS</td>\n",
       "      <td>1995-02-19</td>\n",
       "      <td>nordkappcamping.no</td>\n",
       "    </tr>\n",
       "    <tr>\n",
       "      <th>5</th>\n",
       "      <td>nordkappcaravancamp.no</td>\n",
       "      <td>974387905</td>\n",
       "      <td>NORDKAPP CARAVANCAMP AS</td>\n",
       "      <td>1995-03-31</td>\n",
       "      <td>nordkappcaravancamp.no</td>\n",
       "    </tr>\n",
       "    <tr>\n",
       "      <th>6</th>\n",
       "      <td>nordkkk.no</td>\n",
       "      <td>990545359</td>\n",
       "      <td>NORD KANO OG KAJAKK KLUBB</td>\n",
       "      <td>2006-12-14</td>\n",
       "      <td>nordkkk.no</td>\n",
       "    </tr>\n",
       "  </tbody>\n",
       "</table>\n",
       "</div>"
      ],
      "text/plain": [
       "                Domain_Name  Org_Number  \\\n",
       "381         autoforum.sf.no   959167915   \n",
       "223             cas.oslo.no   971543671   \n",
       "1        kirken.nordkapp.no   977001706   \n",
       "849      kirken.sor-fron.no   976988922   \n",
       "0                 nordix.no   864133312   \n",
       "2         nordkapp-boats.no   958204434   \n",
       "3           nordkappauto.no   979703090   \n",
       "4        nordkappcamping.no   954824209   \n",
       "5    nordkappcaravancamp.no   974387905   \n",
       "6                nordkkk.no   990545359   \n",
       "\n",
       "                                               Company    Reg_Date  \\\n",
       "381                                  AUTO 8-8 FORUM AS  1995-02-20   \n",
       "223  SENTER FOR GRUNNFORSKNING VED DET NORSKE VIDEN...  1995-02-20   \n",
       "1                                        NORDKAPP SOKN  1997-01-27   \n",
       "849                                      SØR-FRON SOKN  1997-01-27   \n",
       "0                                       NORDIX DATA AS  1995-02-19   \n",
       "2                                    FRYDENBØ BOATS AS  1995-02-19   \n",
       "3                                     NORDKAPP AUTO AS  1998-03-24   \n",
       "4                                  NORDKAPP CAMPING AS  1995-02-19   \n",
       "5                              NORDKAPP CARAVANCAMP AS  1995-03-31   \n",
       "6                            NORD KANO OG KAJAKK KLUBB  2006-12-14   \n",
       "\n",
       "                    Website  \n",
       "381         autoforum.sf.no  \n",
       "223             cas.oslo.no  \n",
       "1        kirken.nordkapp.no  \n",
       "849      kirken.sor-fron.no  \n",
       "0                 nordix.no  \n",
       "2         nordkapp-boats.no  \n",
       "3           nordkappauto.no  \n",
       "4        nordkappcamping.no  \n",
       "5    nordkappcaravancamp.no  \n",
       "6                nordkkk.no  "
      ]
     },
     "execution_count": 30,
     "metadata": {},
     "output_type": "execute_result"
    }
   ],
   "source": [
    "unique.head(10)"
   ]
  },
  {
   "cell_type": "code",
   "execution_count": 31,
   "id": "liable-person",
   "metadata": {},
   "outputs": [],
   "source": [
    "unique['Reg_Date'] = pd.to_datetime(unique['Reg_Date'])"
   ]
  },
  {
   "cell_type": "code",
   "execution_count": 32,
   "id": "metropolitan-integer",
   "metadata": {
    "scrolled": true
   },
   "outputs": [
    {
     "name": "stdout",
     "output_type": "stream",
     "text": [
      "<class 'pandas.core.frame.DataFrame'>\n",
      "Int64Index: 896 entries, 381 to 1986\n",
      "Data columns (total 5 columns):\n",
      " #   Column       Non-Null Count  Dtype         \n",
      "---  ------       --------------  -----         \n",
      " 0   Domain_Name  896 non-null    object        \n",
      " 1   Org_Number   896 non-null    int64         \n",
      " 2   Company      896 non-null    object        \n",
      " 3   Reg_Date     896 non-null    datetime64[ns]\n",
      " 4   Website      896 non-null    object        \n",
      "dtypes: datetime64[ns](1), int64(1), object(3)\n",
      "memory usage: 42.0+ KB\n"
     ]
    }
   ],
   "source": [
    "unique.info()"
   ]
  },
  {
   "cell_type": "code",
   "execution_count": 34,
   "id": "cosmetic-comparative",
   "metadata": {},
   "outputs": [
    {
     "data": {
      "text/plain": [
       "(896, 5)"
      ]
     },
     "execution_count": 34,
     "metadata": {},
     "output_type": "execute_result"
    }
   ],
   "source": [
    "unique.shape"
   ]
  },
  {
   "cell_type": "code",
   "execution_count": 35,
   "id": "varying-pottery",
   "metadata": {},
   "outputs": [],
   "source": [
    "unique.to_csv('Unique.csv')"
   ]
  },
  {
   "cell_type": "code",
   "execution_count": 36,
   "id": "ongoing-dancing",
   "metadata": {},
   "outputs": [],
   "source": [
    "clean_dup = pd.read_csv('Final Data.csv')"
   ]
  },
  {
   "cell_type": "code",
   "execution_count": 37,
   "id": "conservative-counter",
   "metadata": {},
   "outputs": [
    {
     "data": {
      "text/html": [
       "<div>\n",
       "<style scoped>\n",
       "    .dataframe tbody tr th:only-of-type {\n",
       "        vertical-align: middle;\n",
       "    }\n",
       "\n",
       "    .dataframe tbody tr th {\n",
       "        vertical-align: top;\n",
       "    }\n",
       "\n",
       "    .dataframe thead th {\n",
       "        text-align: right;\n",
       "    }\n",
       "</style>\n",
       "<table border=\"1\" class=\"dataframe\">\n",
       "  <thead>\n",
       "    <tr style=\"text-align: right;\">\n",
       "      <th></th>\n",
       "      <th>Unnamed: 0</th>\n",
       "      <th>Domain_Name</th>\n",
       "      <th>Org_Number</th>\n",
       "      <th>Company</th>\n",
       "      <th>Reg_Date</th>\n",
       "      <th>Website</th>\n",
       "    </tr>\n",
       "  </thead>\n",
       "  <tbody>\n",
       "    <tr>\n",
       "      <th>0</th>\n",
       "      <td>0</td>\n",
       "      <td>nordix.no</td>\n",
       "      <td>864133312</td>\n",
       "      <td>NORDIX DATA AS</td>\n",
       "      <td>1995-02-19</td>\n",
       "      <td>nordix.no</td>\n",
       "    </tr>\n",
       "    <tr>\n",
       "      <th>1</th>\n",
       "      <td>1</td>\n",
       "      <td>kirken.nordkapp.no</td>\n",
       "      <td>977001706</td>\n",
       "      <td>NORDKAPP SOKN</td>\n",
       "      <td>1997-01-27</td>\n",
       "      <td>kirken.nordkapp.no</td>\n",
       "    </tr>\n",
       "    <tr>\n",
       "      <th>2</th>\n",
       "      <td>2</td>\n",
       "      <td>nordkapp-boats.no</td>\n",
       "      <td>958204434</td>\n",
       "      <td>FRYDENBØ BOATS AS</td>\n",
       "      <td>1995-02-19</td>\n",
       "      <td>nordkapp-boats.no</td>\n",
       "    </tr>\n",
       "    <tr>\n",
       "      <th>3</th>\n",
       "      <td>3</td>\n",
       "      <td>nordkappauto.no</td>\n",
       "      <td>979703090</td>\n",
       "      <td>NORDKAPP AUTO AS</td>\n",
       "      <td>1998-03-24</td>\n",
       "      <td>nordkappauto.no</td>\n",
       "    </tr>\n",
       "    <tr>\n",
       "      <th>4</th>\n",
       "      <td>4</td>\n",
       "      <td>nordkappcamping.no</td>\n",
       "      <td>954824209</td>\n",
       "      <td>NORDKAPP CAMPING AS</td>\n",
       "      <td>1995-02-19</td>\n",
       "      <td>nordkappcamping.no</td>\n",
       "    </tr>\n",
       "  </tbody>\n",
       "</table>\n",
       "</div>"
      ],
      "text/plain": [
       "   Unnamed: 0         Domain_Name  Org_Number              Company  \\\n",
       "0           0           nordix.no   864133312       NORDIX DATA AS   \n",
       "1           1  kirken.nordkapp.no   977001706        NORDKAPP SOKN   \n",
       "2           2   nordkapp-boats.no   958204434    FRYDENBØ BOATS AS   \n",
       "3           3     nordkappauto.no   979703090     NORDKAPP AUTO AS   \n",
       "4           4  nordkappcamping.no   954824209  NORDKAPP CAMPING AS   \n",
       "\n",
       "     Reg_Date             Website  \n",
       "0  1995-02-19           nordix.no  \n",
       "1  1997-01-27  kirken.nordkapp.no  \n",
       "2  1995-02-19   nordkapp-boats.no  \n",
       "3  1998-03-24     nordkappauto.no  \n",
       "4  1995-02-19  nordkappcamping.no  "
      ]
     },
     "execution_count": 37,
     "metadata": {},
     "output_type": "execute_result"
    }
   ],
   "source": [
    "clean_dup.head()"
   ]
  },
  {
   "cell_type": "code",
   "execution_count": 38,
   "id": "amended-beatles",
   "metadata": {},
   "outputs": [],
   "source": [
    "#Collecting company names with same domains \n",
    "clean_dup = pd.concat(g for _, g in clean_dup.groupby(\"Domain_Name\") if len(g) > 1)"
   ]
  },
  {
   "cell_type": "code",
   "execution_count": 39,
   "id": "eleven-usage",
   "metadata": {},
   "outputs": [],
   "source": [
    "clean_dup = clean_dup.drop(columns = ['Unnamed: 0'])"
   ]
  },
  {
   "cell_type": "code",
   "execution_count": 40,
   "id": "mexican-dutch",
   "metadata": {},
   "outputs": [],
   "source": [
    "clean_dup['Reg_Date'] = pd.to_datetime(clean_dup['Reg_Date'])"
   ]
  },
  {
   "cell_type": "code",
   "execution_count": 41,
   "id": "marine-popularity",
   "metadata": {
    "scrolled": true
   },
   "outputs": [
    {
     "name": "stdout",
     "output_type": "stream",
     "text": [
      "<class 'pandas.core.frame.DataFrame'>\n",
      "Int64Index: 1091 entries, 219 to 1983\n",
      "Data columns (total 5 columns):\n",
      " #   Column       Non-Null Count  Dtype         \n",
      "---  ------       --------------  -----         \n",
      " 0   Domain_Name  1091 non-null   object        \n",
      " 1   Org_Number   1091 non-null   int64         \n",
      " 2   Company      1091 non-null   object        \n",
      " 3   Reg_Date     1091 non-null   datetime64[ns]\n",
      " 4   Website      1091 non-null   object        \n",
      "dtypes: datetime64[ns](1), int64(1), object(3)\n",
      "memory usage: 51.1+ KB\n"
     ]
    }
   ],
   "source": [
    "clean_dup.info()"
   ]
  },
  {
   "cell_type": "code",
   "execution_count": 42,
   "id": "laughing-kuwait",
   "metadata": {},
   "outputs": [
    {
     "data": {
      "text/plain": [
       "(1091, 5)"
      ]
     },
     "execution_count": 42,
     "metadata": {},
     "output_type": "execute_result"
    }
   ],
   "source": [
    "clean_dup.shape"
   ]
  },
  {
   "cell_type": "code",
   "execution_count": 43,
   "id": "absolute-baseball",
   "metadata": {},
   "outputs": [],
   "source": [
    "clean_dup.to_csv('Duplicate.csv')"
   ]
  },
  {
   "cell_type": "code",
   "execution_count": 44,
   "id": "minor-religious",
   "metadata": {},
   "outputs": [],
   "source": [
    "find_unq = pd.read_csv('Duplicate.csv')"
   ]
  },
  {
   "cell_type": "code",
   "execution_count": 45,
   "id": "exciting-japanese",
   "metadata": {},
   "outputs": [
    {
     "data": {
      "text/html": [
       "<div>\n",
       "<style scoped>\n",
       "    .dataframe tbody tr th:only-of-type {\n",
       "        vertical-align: middle;\n",
       "    }\n",
       "\n",
       "    .dataframe tbody tr th {\n",
       "        vertical-align: top;\n",
       "    }\n",
       "\n",
       "    .dataframe thead th {\n",
       "        text-align: right;\n",
       "    }\n",
       "</style>\n",
       "<table border=\"1\" class=\"dataframe\">\n",
       "  <thead>\n",
       "    <tr style=\"text-align: right;\">\n",
       "      <th></th>\n",
       "      <th>Unnamed: 0</th>\n",
       "      <th>Domain_Name</th>\n",
       "      <th>Org_Number</th>\n",
       "      <th>Company</th>\n",
       "      <th>Reg_Date</th>\n",
       "      <th>Website</th>\n",
       "    </tr>\n",
       "  </thead>\n",
       "  <tbody>\n",
       "    <tr>\n",
       "      <th>0</th>\n",
       "      <td>219</td>\n",
       "      <td>anker.oslo.no</td>\n",
       "      <td>994882813</td>\n",
       "      <td>ANKER STI HOLDING AS</td>\n",
       "      <td>2009-12-15</td>\n",
       "      <td>anker.oslo.no</td>\n",
       "    </tr>\n",
       "    <tr>\n",
       "      <th>1</th>\n",
       "      <td>220</td>\n",
       "      <td>anker.oslo.no</td>\n",
       "      <td>896203452</td>\n",
       "      <td>KØBENHAVNGATA 10 AS</td>\n",
       "      <td>2010-11-18</td>\n",
       "      <td>anker.oslo.no</td>\n",
       "    </tr>\n",
       "    <tr>\n",
       "      <th>2</th>\n",
       "      <td>221</td>\n",
       "      <td>anker.oslo.no</td>\n",
       "      <td>991797602</td>\n",
       "      <td>SANDAKERVEIEN 76 AS</td>\n",
       "      <td>2007-12-22</td>\n",
       "      <td>anker.oslo.no</td>\n",
       "    </tr>\n",
       "    <tr>\n",
       "      <th>3</th>\n",
       "      <td>222</td>\n",
       "      <td>anker.oslo.no</td>\n",
       "      <td>966891750</td>\n",
       "      <td>STIFTELSEN ANKER STUDENTBOLIGER OG HOTEL (ANKE...</td>\n",
       "      <td>1995-02-20</td>\n",
       "      <td>anker.oslo.no</td>\n",
       "    </tr>\n",
       "    <tr>\n",
       "      <th>4</th>\n",
       "      <td>1145</td>\n",
       "      <td>kyrkja.tokke.no</td>\n",
       "      <td>976991893</td>\n",
       "      <td>EIDSBORG, MO OG SKAFSÅ SOKN</td>\n",
       "      <td>1997-01-27</td>\n",
       "      <td>kyrkja.tokke.no</td>\n",
       "    </tr>\n",
       "  </tbody>\n",
       "</table>\n",
       "</div>"
      ],
      "text/plain": [
       "   Unnamed: 0      Domain_Name  Org_Number  \\\n",
       "0         219    anker.oslo.no   994882813   \n",
       "1         220    anker.oslo.no   896203452   \n",
       "2         221    anker.oslo.no   991797602   \n",
       "3         222    anker.oslo.no   966891750   \n",
       "4        1145  kyrkja.tokke.no   976991893   \n",
       "\n",
       "                                             Company    Reg_Date  \\\n",
       "0                               ANKER STI HOLDING AS  2009-12-15   \n",
       "1                                KØBENHAVNGATA 10 AS  2010-11-18   \n",
       "2                                SANDAKERVEIEN 76 AS  2007-12-22   \n",
       "3  STIFTELSEN ANKER STUDENTBOLIGER OG HOTEL (ANKE...  1995-02-20   \n",
       "4                        EIDSBORG, MO OG SKAFSÅ SOKN  1997-01-27   \n",
       "\n",
       "           Website  \n",
       "0    anker.oslo.no  \n",
       "1    anker.oslo.no  \n",
       "2    anker.oslo.no  \n",
       "3    anker.oslo.no  \n",
       "4  kyrkja.tokke.no  "
      ]
     },
     "execution_count": 45,
     "metadata": {},
     "output_type": "execute_result"
    }
   ],
   "source": [
    "find_unq.head()"
   ]
  },
  {
   "cell_type": "code",
   "execution_count": 46,
   "id": "sound-output",
   "metadata": {},
   "outputs": [],
   "source": [
    "find_unq = find_unq.drop(columns = ['Unnamed: 0'])"
   ]
  },
  {
   "cell_type": "code",
   "execution_count": 47,
   "id": "proprietary-timer",
   "metadata": {},
   "outputs": [],
   "source": [
    "find_unq['Reg_Date'] = pd.to_datetime(find_unq['Reg_Date'])"
   ]
  },
  {
   "cell_type": "code",
   "execution_count": 48,
   "id": "certified-cholesterol",
   "metadata": {
    "scrolled": true
   },
   "outputs": [
    {
     "name": "stdout",
     "output_type": "stream",
     "text": [
      "<class 'pandas.core.frame.DataFrame'>\n",
      "RangeIndex: 1091 entries, 0 to 1090\n",
      "Data columns (total 5 columns):\n",
      " #   Column       Non-Null Count  Dtype         \n",
      "---  ------       --------------  -----         \n",
      " 0   Domain_Name  1091 non-null   object        \n",
      " 1   Org_Number   1091 non-null   int64         \n",
      " 2   Company      1091 non-null   object        \n",
      " 3   Reg_Date     1091 non-null   datetime64[ns]\n",
      " 4   Website      1091 non-null   object        \n",
      "dtypes: datetime64[ns](1), int64(1), object(3)\n",
      "memory usage: 42.7+ KB\n"
     ]
    }
   ],
   "source": [
    "find_unq.info()"
   ]
  },
  {
   "cell_type": "code",
   "execution_count": 49,
   "id": "arbitrary-wallace",
   "metadata": {},
   "outputs": [
    {
     "data": {
      "text/plain": [
       "(1091, 5)"
      ]
     },
     "execution_count": 49,
     "metadata": {},
     "output_type": "execute_result"
    }
   ],
   "source": [
    "find_unq.shape"
   ]
  },
  {
   "cell_type": "code",
   "execution_count": 50,
   "id": "under-knife",
   "metadata": {},
   "outputs": [],
   "source": [
    "unq_first_date = find_unq.sort_values('Reg_Date').drop_duplicates('Domain_Name',keep='first')"
   ]
  },
  {
   "cell_type": "code",
   "execution_count": 51,
   "id": "criminal-message",
   "metadata": {},
   "outputs": [
    {
     "data": {
      "text/plain": [
       "(154, 5)"
      ]
     },
     "execution_count": 51,
     "metadata": {},
     "output_type": "execute_result"
    }
   ],
   "source": [
    "unq_first_date.shape"
   ]
  },
  {
   "cell_type": "code",
   "execution_count": 52,
   "id": "turned-participant",
   "metadata": {},
   "outputs": [],
   "source": [
    "unq_first_date.to_csv('Unique First.csv')"
   ]
  },
  {
   "cell_type": "code",
   "execution_count": 53,
   "id": "unusual-sister",
   "metadata": {},
   "outputs": [],
   "source": [
    "unq_last_date = find_unq.sort_values('Reg_Date').drop_duplicates('Domain_Name',keep='last')"
   ]
  },
  {
   "cell_type": "code",
   "execution_count": 54,
   "id": "unknown-security",
   "metadata": {},
   "outputs": [
    {
     "data": {
      "text/plain": [
       "(154, 5)"
      ]
     },
     "execution_count": 54,
     "metadata": {},
     "output_type": "execute_result"
    }
   ],
   "source": [
    "unq_last_date.shape"
   ]
  },
  {
   "cell_type": "code",
   "execution_count": 55,
   "id": "baking-inclusion",
   "metadata": {},
   "outputs": [],
   "source": [
    "unq_last_date.to_csv('Unique Last.csv')"
   ]
  },
  {
   "cell_type": "code",
   "execution_count": 57,
   "id": "institutional-assignment",
   "metadata": {},
   "outputs": [
    {
     "name": "stderr",
     "output_type": "stream",
     "text": [
      "b'Skipping line 3: expected 1 fields, saw 2\\nSkipping line 31: expected 1 fields, saw 2\\n'\n"
     ]
    }
   ],
   "source": [
    "cleaned_unq = pd.read_csv('Unique Cleaned.csv', error_bad_lines=False)"
   ]
  },
  {
   "cell_type": "code",
   "execution_count": 65,
   "id": "legitimate-banks",
   "metadata": {},
   "outputs": [
    {
     "data": {
      "text/plain": [
       "(154, 1)"
      ]
     },
     "execution_count": 65,
     "metadata": {},
     "output_type": "execute_result"
    }
   ],
   "source": [
    "cleaned_unq.shape"
   ]
  },
  {
   "cell_type": "code",
   "execution_count": 64,
   "id": "looking-chicago",
   "metadata": {},
   "outputs": [
    {
     "name": "stderr",
     "output_type": "stream",
     "text": [
      "<ipython-input-64-d28451c2a072>:1: ParserWarning: Falling back to the 'python' engine because the 'c' engine does not support regex separators (separators > 1 char and different from '\\s+' are interpreted as regex); you can avoid this warning by specifying engine='python'.\n",
      "  cleaned_unq = pd.read_csv('Unique Cleaned.csv', sep='delimiter')\n"
     ]
    }
   ],
   "source": [
    "cleaned_unq = pd.read_csv('Unique Cleaned.csv', sep='delimiter')"
   ]
  },
  {
   "cell_type": "code",
   "execution_count": 68,
   "id": "coordinated-corporation",
   "metadata": {},
   "outputs": [
    {
     "data": {
      "text/plain": [
       "(154, 1)"
      ]
     },
     "execution_count": 68,
     "metadata": {},
     "output_type": "execute_result"
    }
   ],
   "source": [
    "cleaned_unq.shape"
   ]
  },
  {
   "cell_type": "code",
   "execution_count": 69,
   "id": "instant-melbourne",
   "metadata": {},
   "outputs": [],
   "source": [
    "merge = [unique, cleaned_unq]"
   ]
  },
  {
   "cell_type": "code",
   "execution_count": 70,
   "id": "congressional-cigarette",
   "metadata": {},
   "outputs": [],
   "source": [
    "final_output = pd.concat(merge)"
   ]
  },
  {
   "cell_type": "code",
   "execution_count": 72,
   "id": "through-bhutan",
   "metadata": {},
   "outputs": [
    {
     "data": {
      "text/plain": [
       "(1050, 6)"
      ]
     },
     "execution_count": 72,
     "metadata": {},
     "output_type": "execute_result"
    }
   ],
   "source": [
    "final_output.shape"
   ]
  },
  {
   "cell_type": "code",
   "execution_count": 74,
   "id": "intensive-miller",
   "metadata": {},
   "outputs": [],
   "source": [
    "final_output = final_output.to_csv('Final_Output')"
   ]
  }
 ],
 "metadata": {
  "kernelspec": {
   "display_name": "Python 3",
   "language": "python",
   "name": "python3"
  },
  "language_info": {
   "codemirror_mode": {
    "name": "ipython",
    "version": 3
   },
   "file_extension": ".py",
   "mimetype": "text/x-python",
   "name": "python",
   "nbconvert_exporter": "python",
   "pygments_lexer": "ipython3",
   "version": "3.8.5"
  }
 },
 "nbformat": 4,
 "nbformat_minor": 5
}
